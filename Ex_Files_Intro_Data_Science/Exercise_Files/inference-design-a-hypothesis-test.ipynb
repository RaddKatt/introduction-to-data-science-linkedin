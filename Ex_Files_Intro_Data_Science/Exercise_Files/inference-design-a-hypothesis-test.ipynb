{
 "cells": [
  {
   "cell_type": "markdown",
   "id": "98c4eec4",
   "metadata": {},
   "source": [
    "## Statistical Inference\n",
    "**Statistical Inference** is the process of using *data analysis* to *deduce* properties of an underlying *probability distribution*.\n",
    "\n",
    "* Data Scientists use *inference* to *quantify* how certain they are that *trends* they see in their data will be found in new data.\n",
    "* They also use *inference* to *draw conclusions* about a *population* using their data set.\n",
    "\n",
    "### Statistical Inference Examples:\n",
    "* Election Forecasting\n",
    "* Test Score Predictions\n",
    "\n",
    "### Statistical Inference Methods:\n",
    "1. Hypothesis Tests\n",
    "1. Confidence Intervals\n",
    "* These methods involve resampling, which allow you to draw conclusions about your data, as well as new data.\n",
    "\n",
    "### Hypothesis Tests\n",
    "* Data Scientists use **hypothesis tests** to make *informed conclusions* based on the data that they observe.\n",
    "* Data Collection is not always precise.\n",
    " * Hypothesis Testing comes in here, to help determine whether the trends occurred due to *random fluctations* in data collection, or due to some *real phemonena*."
   ]
  },
  {
   "cell_type": "markdown",
   "id": "bca5608a",
   "metadata": {},
   "source": [
    "## Design a Hypothesis Test"
   ]
  },
  {
   "cell_type": "code",
   "execution_count": 1,
   "id": "13eb32aa",
   "metadata": {},
   "outputs": [],
   "source": [
    "import pandas as pd\n",
    "import matplotlib.pyplot as plt\n",
    "import seaborn as sn\n",
    "import numpy as np"
   ]
  },
  {
   "cell_type": "code",
   "execution_count": null,
   "id": "d2811fd5",
   "metadata": {},
   "outputs": [],
   "source": []
  }
 ],
 "metadata": {
  "kernelspec": {
   "display_name": "Python 3 (ipykernel)",
   "language": "python",
   "name": "python3"
  },
  "language_info": {
   "codemirror_mode": {
    "name": "ipython",
    "version": 3
   },
   "file_extension": ".py",
   "mimetype": "text/x-python",
   "name": "python",
   "nbconvert_exporter": "python",
   "pygments_lexer": "ipython3",
   "version": "3.9.13"
  }
 },
 "nbformat": 4,
 "nbformat_minor": 5
}
